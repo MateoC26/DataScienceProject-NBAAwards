{
  "cells": [
    {
      "cell_type": "markdown",
      "metadata": {
        "id": "o9o82-4WkW9K"
      },
      "source": [
        "# NBA Defensive Player of the Year\n",
        "## Data Science Final Project"
      ]
    },
    {
      "cell_type": "markdown",
      "metadata": {
        "id": "Z0w0SKjlkW9P"
      },
      "source": [
        "Group Member 1: David Basin\n",
        "Group Member 2: Mateo Castro\n",
        "Group Member 3: Abed Islam\n",
        "***"
      ]
    },
    {
      "cell_type": "markdown",
      "metadata": {
        "id": "qtiktXOakW9Q"
      },
      "source": [
        "We will be attempting to determine who will win the NBA Defensive Player of the Year award using machine learning methods such as SVM and K-Folds. Our findings will be based on the advanced analystics of past DPOY winners, their teams and the advanced analytics of this years players. The datasets to be used are provided."
      ]
    },
    {
      "cell_type": "markdown",
      "metadata": {
        "id": "agq-Uw6nkW9Q"
      },
      "source": [
        "### Part 1: EDA \n",
        "In this part, we will be performing Exploratory Data Analysis on the raw datasets to provide some inital insights to the data."
      ]
    },
    {
      "cell_type": "code",
      "execution_count": 1,
      "metadata": {
        "id": "LgKyU-l8kW9R"
      },
      "outputs": [],
      "source": [
        "import pandas as pd\n",
        "import numpy as np\n",
        "import matplotlib.pyplot as plt\n",
        "from sklearn import svm, linear_model, metrics\n",
        "%matplotlib inline \n",
        "\n"
      ]
    },
    {
      "cell_type": "markdown",
      "metadata": {
        "id": "MRuoTBsBkW9V"
      },
      "source": [
        "### Part 2: Cleaning the data\n",
        "We will be cleaning the data we have so that we have only the information we will need for our models."
      ]
    },
    {
      "cell_type": "code",
      "execution_count": null,
      "metadata": {
        "id": "_jUXwfs_kW9W"
      },
      "outputs": [],
      "source": [
        ""
      ]
    },
    {
      "cell_type": "markdown",
      "source": [
        "## Part 3: Creating and training the model\n",
        "The model will be made, tested and optimized using K-Folds to find the best parameters to use."
      ],
      "metadata": {
        "id": "hLkqUJzKmq3p"
      }
    },
    {
      "cell_type": "code",
      "source": [
        ""
      ],
      "metadata": {
        "id": "vPtYhl1bm_tm"
      },
      "execution_count": null,
      "outputs": []
    },
    {
      "cell_type": "markdown",
      "source": [
        "## Part 4: Validating and testing the model\n",
        "We will optimize the model using K-Folds validation to find the best parameters to use and testing the resulting model."
      ],
      "metadata": {
        "id": "VCePoo6bnw2B"
      }
    },
    {
      "cell_type": "code",
      "source": [
        ""
      ],
      "metadata": {
        "id": "N2xhIUoroBqC"
      },
      "execution_count": null,
      "outputs": []
    },
    {
      "cell_type": "markdown",
      "source": [
        "## Part 5: Determining the DPOY\n",
        "Finally, the DPOY will be determined for this season using the model created."
      ],
      "metadata": {
        "id": "m9uOLrwenP1S"
      }
    },
    {
      "cell_type": "code",
      "source": [
        ""
      ],
      "metadata": {
        "id": "zFgNLLbUnwQE"
      },
      "execution_count": null,
      "outputs": []
    }
  ],
  "metadata": {
    "kernelspec": {
      "display_name": "DSSpring22",
      "language": "python",
      "name": "dsspring22"
    },
    "language_info": {
      "codemirror_mode": {
        "name": "ipython",
        "version": 3
      },
      "file_extension": ".py",
      "mimetype": "text/x-python",
      "name": "python",
      "nbconvert_exporter": "python",
      "pygments_lexer": "ipython3",
      "version": "3.9.7"
    },
    "colab": {
      "name": "solution.ipynb",
      "provenance": [],
      "collapsed_sections": [
        "agq-Uw6nkW9Q",
        "MRuoTBsBkW9V",
        "hLkqUJzKmq3p",
        "VCePoo6bnw2B",
        "m9uOLrwenP1S"
      ]
    }
  },
  "nbformat": 4,
  "nbformat_minor": 0
}