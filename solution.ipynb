{
 "cells": [
  {
   "cell_type": "markdown",
   "metadata": {
    "id": "o9o82-4WkW9K"
   },
   "source": [
    "# NBA Most Valuable Player\n",
    "## Data Science Final Project"
   ]
  },
  {
   "cell_type": "markdown",
   "metadata": {
    "id": "Z0w0SKjlkW9P"
   },
   "source": [
    "Group Member 1: David Basin\n",
    "Group Member 2: Mateo Castro\n",
    "Group Member 3: Abed Islam\n",
    "***"
   ]
  },
  {
   "cell_type": "markdown",
   "metadata": {
    "id": "qtiktXOakW9Q"
   },
   "source": [
    "We will be attempting to determine who will win the NBA Most Valuable Player award using machine learning methods such as SVM/Linear Regression and K-Folds. Our findings will be based on the advanced analystics of past MVP winners, their teams and the advanced analytics of this years players. The datasets to be used are provided."
   ]
  },
  {
   "cell_type": "code",
   "execution_count": null,
   "metadata": {
    "id": "LgKyU-l8kW9R"
   },
   "outputs": [],
   "source": [
    "import pandas as pd\n",
    "import numpy as np\n",
    "import matplotlib.pyplot as plt\n",
    "from sklearn import svm, linear_model, metrics\n",
    "%matplotlib inline "
   ]
  },
  {
   "cell_type": "markdown",
   "metadata": {
    "id": "MRuoTBsBkW9V"
   },
   "source": [
    "### Part 1: Acquiring and cleaning the data\n",
    "We will be obtaining and cleaning the data, so that we have only the information we will need for our models."
   ]
  },
  {
   "cell_type": "code",
   "execution_count": 83,
   "metadata": {
    "id": "_jUXwfs_kW9W",
    "scrolled": false
   },
   "outputs": [],
   "source": [
    "team_records = pd.read_csv(\"Standings/Team_Records.csv\")\n",
    "team_records = team_records.loc[team_records[\"Season\"] != \"2017-18\"]\n",
    "for i in range(17,22):\n",
    "    years = str(i)+\"-\"+str(i+1)\n",
    "    east_standings = pd.read_csv(\"Standings/\"+years+\"_East.csv\")\n",
    "    west_standings = pd.read_csv(\"Standings/\"+years+\"_West.csv\")\n",
    "    team_records = pd.concat([team_records,east_standings,west_standings])\n",
    "team_records[\"Season\"] = team_records[\"Season\"].str.slice(2)\n",
    "team_records[\"Team\"] = team_records[\"Team\"].str.replace('*','',regex=False)\n",
    "team_records.set_index([\"Season\",\"Team\"],inplace=True)\n",
    "team_dict = {\"ATL\":\"Atlanta Hawks\", \"BRK\":\"Brooklyn Nets\",\"BOS\":\"Boston Celtics\",\"CHO\":\"Charlotte Hornets\",\n",
    "    \"CHI\":\"Chicago Bulls\",\"CLE\":\"Cleveland Cavaliers\",\"DAL\":\"Dallas Mavericks\",\"DEN\":\"Denver Nuggets\",\n",
    "    \"DET\":\"Detroit Pistons\",\"GSW\":\"Golden State Warriors\",\"HOU\":\"Houston Rockets\",\"IND\":\"Indiana Pacers\",\n",
    "    \"LAC\":\"Los Angeles Clippers\",\"LAL\":\"Los Angeles Lakers\",\"MEM\":\"Memphis Grizzlies\",\"MIA\":\"Miami Heat\",\n",
    "    \"MIL\":\"Milwaukee Bucks\",\"MIN\":\"Minnesota Timberwolves\",\"NOP\":\"New Orleans Pelicans\",\"NYK\":\"New York Knicks\",\n",
    "    \"OKC\":\"Oklahoma City Thunder\",\"ORL\":\"Orlando Magic\",\"PHI\":\"Philadelphia 76ers\",\"PHO\":\"Phoenix Suns\",\n",
    "    \"POR\":\"Portland Trail Blazers\",\"SAC\":\"Sacramento Kings\",\"SAS\":\"San Antonio Spurs\",\"TOR\":\"Toronto Raptors\",\n",
    "    \"UTA\":\"Utah Jazz\",\"WAS\":\"Washington Wizards\",\"NOJ\":\"New Orleans Jazz\",\"SEA\":\"Seattle SuperSonics\",\n",
    "    \"WSB\":\"Washington Bullets\",\"SDC\":\"San Diego Clippers\",\"KCK\":\"Kansas City Kings\",\"NJN\":\"New Jersey Nets\",\n",
    "    \"CHH\":\"Charlotte Hornets\",\"NOH\":\"New Orleans Hornets\",\"CHA\":\"Charlotte Bobcats\"}\n",
    "    \n",
    "\n",
    "for i in range(77,121):\n",
    "    years = str(i)[-2:]+\"-\"+str(i+1)[-2:]\n",
    "    voting = pd.read_csv(\"Voting/\"+years+\"_Voting.csv\", encoding = \"ISO-8859-1\", engine=\"python\")\n",
    "    advanced = pd.read_csv(\"advanced_stats/\"+years+\"_advanced.csv\", encoding = \"ISO-8859-1\", engine=\"python\")\n",
    "    pergame = pd.read_csv(\"PerGame/PerGame_\"+years+\".csv\", encoding = \"ISO-8859-1\", engine=\"python\")\n",
    "    #per game: FG%, TRB, AST, STL, BLK, TOV, PTS\n",
    "    #advanced: PER, TS%, USG%, WS, OBPM, DBPM, VORP\n",
    "    #Voting: Tm, Share\n",
    "    voting = voting.loc[:,[\"Player\",\"Tm\",\"Share\"]]\n",
    "    advanced = advanced.loc[:,[\"Player\",\"PER\",\"TS%\",\"USG%\",\"WS\",\"OBPM\",\"DBPM\",\"VORP\"]]\n",
    "    advanced[\"Player\"] = advanced[\"Player\"].str.replace('*','',regex=False)\n",
    "    pergame = pergame.loc[:,[\"Player\",\"FG%\",\"TRB\",\"AST\",\"STL\",\"BLK\",\"TOV\",\"PTS\"]]\n",
    "    pergame[\"Player\"] = pergame[\"Player\"].str.replace('*','',regex=False)\n",
    "    final_df = pd.merge(voting, advanced, how=\"left\", on=\"Player\")\n",
    "    final_df = pd.merge(final_df, pergame, how=\"left\", on=\"Player\")\n",
    "    final_df[\"Year\"] = years\n",
    "    final_df[\"W/L%\"] = 0\n",
    "    for i, row in final_df.iterrows():\n",
    "        if row[\"Tm\"] == \"TOT\": \n",
    "            final_df.loc[i,\"W/L%\"] = .625\n",
    "        else:\n",
    "            team = team_dict[row[\"Tm\"]]\n",
    "            final_df.loc[i,\"W/L%\"] = team_records.loc[(row[\"Year\"],team)].at[\"W/L%\"]\n",
    "    share_sum = final_df[\"Share\"].sum()\n",
    "    final_df[\"Share\"] = final_df[\"Share\"]/final_df[\"Share\"].sum()\n",
    "advanced_22 = pd.read_csv(\"advanced_stats/21-22_advanced.csv\", encoding = \"ISO-8859-1\", engine=\"python\")\n",
    "pergame_22 = pd.read_csv(\"PerGame/PerGame_21-22.csv\", encoding = \"ISO-8859-1\", engine=\"python\")\n",
    "advanced_22 = advanced_22.loc[:,[\"Player\",\"Tm\",\"PER\",\"TS%\",\"USG%\",\"WS\",\"OBPM\",\"DBPM\",\"VORP\"]]\n",
    "advanced_22[\"Player\"] = advanced_22[\"Player\"].str.replace('*','',regex=False)\n",
    "pergame_22 = pergame_22.loc[:,[\"Player\",\"FG%\",\"TRB\",\"AST\",\"STL\",\"BLK\",\"TOV\",\"PTS\"]]\n",
    "pergame_22[\"Player\"] = pergame_22[\"Player\"].str.replace('*','',regex=False)\n",
    "final_df_22 = pd.merge(advanced_22, pergame_22, how=\"left\", on=\"Player\")\n",
    "for i, row in final_df_22.iterrows():\n",
    "        if row[\"Tm\"] == \"TOT\": \n",
    "            final_df_22.loc[i,\"W/L%\"] = .625\n",
    "        else:\n",
    "            team = team_dict[row[\"Tm\"]]\n",
    "            final_df_22.loc[i,\"W/L%\"] = team_records.loc[(\"21-22\",team)].at[\"W/L%\"]"
   ]
  },
  {
   "cell_type": "markdown",
   "metadata": {
    "id": "agq-Uw6nkW9Q"
   },
   "source": [
    "### Part 2: EDA \n",
    "In this part, we will be performing Exploratory Data Analysis on the dataset to provide some inital insights to the data."
   ]
  },
  {
   "cell_type": "code",
   "execution_count": null,
   "metadata": {},
   "outputs": [],
   "source": [
    "per_game_1 = pd.read_csv(\"Per\")"
   ]
  },
  {
   "cell_type": "markdown",
   "metadata": {
    "id": "hLkqUJzKmq3p"
   },
   "source": [
    "### Part 3: Creating and training the model\n",
    "Creating the model and training it with the train set."
   ]
  },
  {
   "cell_type": "code",
   "execution_count": null,
   "metadata": {
    "id": "vPtYhl1bm_tm"
   },
   "outputs": [],
   "source": []
  },
  {
   "cell_type": "markdown",
   "metadata": {
    "id": "VCePoo6bnw2B"
   },
   "source": [
    "### Part 4: Validating and testing the model\n",
    "We will optimize the model using K-Folds validation to find the best parameters to use and testing the resulting model."
   ]
  },
  {
   "cell_type": "code",
   "execution_count": null,
   "metadata": {
    "id": "N2xhIUoroBqC"
   },
   "outputs": [],
   "source": []
  },
  {
   "cell_type": "markdown",
   "metadata": {
    "id": "m9uOLrwenP1S"
   },
   "source": [
    "### Part 5: Determining the MVP\n",
    "Finally, the MVP will be determined for this season using the model created."
   ]
  },
  {
   "cell_type": "code",
   "execution_count": null,
   "metadata": {
    "id": "zFgNLLbUnwQE"
   },
   "outputs": [],
   "source": []
  }
 ],
 "metadata": {
  "colab": {
   "collapsed_sections": [
    "agq-Uw6nkW9Q",
    "MRuoTBsBkW9V",
    "hLkqUJzKmq3p",
    "VCePoo6bnw2B",
    "m9uOLrwenP1S"
   ],
   "name": "solution.ipynb",
   "provenance": []
  },
  "kernelspec": {
   "display_name": "DSSpring22",
   "language": "python",
   "name": "dsspring22"
  },
  "language_info": {
   "codemirror_mode": {
    "name": "ipython",
    "version": 3
   },
   "file_extension": ".py",
   "mimetype": "text/x-python",
   "name": "python",
   "nbconvert_exporter": "python",
   "pygments_lexer": "ipython3",
   "version": "3.9.7"
  }
 },
 "nbformat": 4,
 "nbformat_minor": 1
}
